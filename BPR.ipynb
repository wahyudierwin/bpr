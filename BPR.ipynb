{
 "cells": [
  {
   "cell_type": "code",
   "execution_count": 1,
   "metadata": {},
   "outputs": [],
   "source": [
    "import os\n",
    "\n",
    "os.chdir(path = os.getcwd())\n",
    "\n",
    "import sys\n",
    "import numpy as np\n",
    "import pandas as pd\n",
    "from math import ceil\n",
    "from tqdm import trange\n",
    "from subprocess import call\n",
    "from itertools import islice\n",
    "from sklearn.metrics import roc_auc_score\n",
    "from sklearn.preprocessing import normalize\n",
    "from sklearn.neighbors import NearestNeighbors\n",
    "from scipy.sparse import csr_matrix, dok_matrix"
   ]
  },
  {
   "cell_type": "code",
   "execution_count": 2,
   "metadata": {},
   "outputs": [
    {
     "name": "stdout",
     "output_type": "stream",
     "text": [
      "data dimension: \n",
      " (100000, 4)\n"
     ]
    },
    {
     "data": {
      "text/html": [
       "<div>\n",
       "<style scoped>\n",
       "    .dataframe tbody tr th:only-of-type {\n",
       "        vertical-align: middle;\n",
       "    }\n",
       "\n",
       "    .dataframe tbody tr th {\n",
       "        vertical-align: top;\n",
       "    }\n",
       "\n",
       "    .dataframe thead th {\n",
       "        text-align: right;\n",
       "    }\n",
       "</style>\n",
       "<table border=\"1\" class=\"dataframe\">\n",
       "  <thead>\n",
       "    <tr style=\"text-align: right;\">\n",
       "      <th></th>\n",
       "      <th>user_id</th>\n",
       "      <th>item_id</th>\n",
       "      <th>rating</th>\n",
       "      <th>timestamp</th>\n",
       "    </tr>\n",
       "  </thead>\n",
       "  <tbody>\n",
       "    <tr>\n",
       "      <th>0</th>\n",
       "      <td>196</td>\n",
       "      <td>242</td>\n",
       "      <td>3</td>\n",
       "      <td>881250949</td>\n",
       "    </tr>\n",
       "    <tr>\n",
       "      <th>1</th>\n",
       "      <td>186</td>\n",
       "      <td>302</td>\n",
       "      <td>3</td>\n",
       "      <td>891717742</td>\n",
       "    </tr>\n",
       "    <tr>\n",
       "      <th>2</th>\n",
       "      <td>22</td>\n",
       "      <td>377</td>\n",
       "      <td>1</td>\n",
       "      <td>878887116</td>\n",
       "    </tr>\n",
       "    <tr>\n",
       "      <th>3</th>\n",
       "      <td>244</td>\n",
       "      <td>51</td>\n",
       "      <td>2</td>\n",
       "      <td>880606923</td>\n",
       "    </tr>\n",
       "    <tr>\n",
       "      <th>4</th>\n",
       "      <td>166</td>\n",
       "      <td>346</td>\n",
       "      <td>1</td>\n",
       "      <td>886397596</td>\n",
       "    </tr>\n",
       "  </tbody>\n",
       "</table>\n",
       "</div>"
      ],
      "text/plain": [
       "   user_id  item_id  rating  timestamp\n",
       "0      196      242       3  881250949\n",
       "1      186      302       3  891717742\n",
       "2       22      377       1  878887116\n",
       "3      244       51       2  880606923\n",
       "4      166      346       1  886397596"
      ]
     },
     "execution_count": 2,
     "metadata": {},
     "output_type": "execute_result"
    }
   ],
   "source": [
    "file_dir = 'ml-100k'\n",
    "file_path = os.path.join(file_dir, 'u.data')\n",
    "if not os.path.isdir(file_dir):\n",
    "    call(['curl', '-O', 'http://files.grouplens.org/datasets/movielens/' + file_dir + '.zip'])\n",
    "    call(['unzip', file_dir + '.zip'])\n",
    "\n",
    "# we will not be using the timestamp column\n",
    "names = ['user_id', 'item_id', 'rating', 'timestamp']\n",
    "df = pd.read_csv(file_path, sep = '\\t', names = names)\n",
    "print('data dimension: \\n', df.shape)\n",
    "df.head()"
   ]
  },
  {
   "cell_type": "code",
   "execution_count": 3,
   "metadata": {},
   "outputs": [],
   "source": [
    "def create_matrix(data, users_col, items_col, ratings_col, threshold = None):\n",
    "    \"\"\"\n",
    "    creates the sparse user-item interaction matrix,\n",
    "    if the data is not in the format where the interaction only\n",
    "    contains the positive items (indicated by 1), then use the \n",
    "    threshold parameter to determine which items are considered positive\n",
    "    \n",
    "    Parameters\n",
    "    ----------\n",
    "    data : DataFrame\n",
    "        implicit rating data\n",
    "\n",
    "    users_col : str\n",
    "        user column name\n",
    "\n",
    "    items_col : str\n",
    "        item column name\n",
    "    \n",
    "    ratings_col : str\n",
    "        implicit rating column name\n",
    "\n",
    "    threshold : int, default None\n",
    "        threshold to determine whether the user-item pair is \n",
    "        a positive feedback\n",
    "\n",
    "    Returns\n",
    "    -------\n",
    "    ratings : scipy sparse csr_matrix, shape [n_users, n_items]\n",
    "        user/item ratings matrix\n",
    "\n",
    "    data : DataFrame\n",
    "        implict rating data that retains only the positive feedback\n",
    "        (if specified to do so)\n",
    "    \"\"\"\n",
    "    if threshold is not None:\n",
    "        data = data[data[ratings_col] >= threshold]\n",
    "        data[ratings_col] = 1\n",
    "    \n",
    "    for col in (items_col, users_col, ratings_col):\n",
    "        data[col] = data[col].astype('category')\n",
    "\n",
    "    ratings = csr_matrix((data[ratings_col],\n",
    "                          (data[users_col].cat.codes, data[items_col].cat.codes)))\n",
    "    ratings.eliminate_zeros()\n",
    "    return ratings, data\n"
   ]
  },
  {
   "cell_type": "code",
   "execution_count": 4,
   "metadata": {},
   "outputs": [],
   "source": [
    "def filter_data(data, users_col, items_col, ratings_col, rating_threshold = None, count_threshold = 5):\n",
    "    \"\"\"\n",
    "    choose data with user_id whose item count is\n",
    "    greater than threshold\n",
    "    \n",
    "    Parameters\n",
    "    ----------\n",
    "    data : DataFrame\n",
    "        implicit rating data\n",
    "\n",
    "    users_col : str\n",
    "        user column name\n",
    "\n",
    "    items_col : str\n",
    "        item column name\n",
    "    \n",
    "    threshold : int, default 5\n",
    "        threshold to determine whether the user is chosen as training data\n",
    "\n",
    "    Returns\n",
    "    -------\n",
    "    data_filter : DataFrame\n",
    "        Filtered data where a user is eligible to be in training data\n",
    "    \"\"\"\n",
    "    \n",
    "    data_threshold = None\n",
    "    if rating_threshold is not None:\n",
    "        data_threshold = data[data[ratings_col] >= rating_threshold]\n",
    "        data_threshold[ratings_col] = 1\n",
    "    \n",
    "    data_count = data_threshold.groupby(users_col).count()[[items_col]] \\\n",
    "        .reset_index().rename(columns={items_col: 'item_count'})\n",
    "    \n",
    "    data_filter = data_threshold \\\n",
    "        .merge(data_count[data_count['item_count'] >= count_threshold][[users_col]], \\\n",
    "               on=users_col)\n",
    "    \n",
    "    return data_filter"
   ]
  },
  {
   "cell_type": "code",
   "execution_count": 5,
   "metadata": {},
   "outputs": [
    {
     "name": "stderr",
     "output_type": "stream",
     "text": [
      "/home/erwin/.local/lib/python3.6/site-packages/ipykernel_launcher.py:29: SettingWithCopyWarning: \n",
      "A value is trying to be set on a copy of a slice from a DataFrame.\n",
      "Try using .loc[row_indexer,col_indexer] = value instead\n",
      "\n",
      "See the caveats in the documentation: https://pandas.pydata.org/pandas-docs/stable/user_guide/indexing.html#returning-a-view-versus-a-copy\n"
     ]
    }
   ],
   "source": [
    "df_train = filter_data(df, 'user_id', 'item_id', 'rating', 3, 50)"
   ]
  },
  {
   "cell_type": "code",
   "execution_count": 6,
   "metadata": {},
   "outputs": [],
   "source": [
    "X_train, df_train = create_matrix(df_train, 'user_id', 'item_id', 'rating')"
   ]
  },
  {
   "cell_type": "code",
   "execution_count": 7,
   "metadata": {},
   "outputs": [
    {
     "data": {
      "text/plain": [
       "<505x1558 sparse matrix of type '<class 'numpy.int64'>'\n",
       "\twith 70144 stored elements in Compressed Sparse Row format>"
      ]
     },
     "execution_count": 7,
     "metadata": {},
     "output_type": "execute_result"
    }
   ],
   "source": [
    "X_train"
   ]
  },
  {
   "cell_type": "code",
   "execution_count": 8,
   "metadata": {},
   "outputs": [
    {
     "data": {
      "text/html": [
       "<div>\n",
       "<style scoped>\n",
       "    .dataframe tbody tr th:only-of-type {\n",
       "        vertical-align: middle;\n",
       "    }\n",
       "\n",
       "    .dataframe tbody tr th {\n",
       "        vertical-align: top;\n",
       "    }\n",
       "\n",
       "    .dataframe thead th {\n",
       "        text-align: right;\n",
       "    }\n",
       "</style>\n",
       "<table border=\"1\" class=\"dataframe\">\n",
       "  <thead>\n",
       "    <tr style=\"text-align: right;\">\n",
       "      <th></th>\n",
       "      <th>user_id</th>\n",
       "      <th>item_id</th>\n",
       "      <th>rating</th>\n",
       "      <th>timestamp</th>\n",
       "    </tr>\n",
       "  </thead>\n",
       "  <tbody>\n",
       "    <tr>\n",
       "      <th>0</th>\n",
       "      <td>186</td>\n",
       "      <td>302</td>\n",
       "      <td>1</td>\n",
       "      <td>891717742</td>\n",
       "    </tr>\n",
       "    <tr>\n",
       "      <th>1</th>\n",
       "      <td>186</td>\n",
       "      <td>566</td>\n",
       "      <td>1</td>\n",
       "      <td>879023663</td>\n",
       "    </tr>\n",
       "    <tr>\n",
       "      <th>2</th>\n",
       "      <td>186</td>\n",
       "      <td>148</td>\n",
       "      <td>1</td>\n",
       "      <td>891719774</td>\n",
       "    </tr>\n",
       "    <tr>\n",
       "      <th>3</th>\n",
       "      <td>186</td>\n",
       "      <td>263</td>\n",
       "      <td>1</td>\n",
       "      <td>879023571</td>\n",
       "    </tr>\n",
       "    <tr>\n",
       "      <th>4</th>\n",
       "      <td>186</td>\n",
       "      <td>470</td>\n",
       "      <td>1</td>\n",
       "      <td>879023693</td>\n",
       "    </tr>\n",
       "    <tr>\n",
       "      <th>...</th>\n",
       "      <td>...</td>\n",
       "      <td>...</td>\n",
       "      <td>...</td>\n",
       "      <td>...</td>\n",
       "    </tr>\n",
       "    <tr>\n",
       "      <th>70139</th>\n",
       "      <td>936</td>\n",
       "      <td>312</td>\n",
       "      <td>1</td>\n",
       "      <td>886831853</td>\n",
       "    </tr>\n",
       "    <tr>\n",
       "      <th>70140</th>\n",
       "      <td>936</td>\n",
       "      <td>1226</td>\n",
       "      <td>1</td>\n",
       "      <td>886833148</td>\n",
       "    </tr>\n",
       "    <tr>\n",
       "      <th>70141</th>\n",
       "      <td>936</td>\n",
       "      <td>251</td>\n",
       "      <td>1</td>\n",
       "      <td>886832134</td>\n",
       "    </tr>\n",
       "    <tr>\n",
       "      <th>70142</th>\n",
       "      <td>936</td>\n",
       "      <td>287</td>\n",
       "      <td>1</td>\n",
       "      <td>886832419</td>\n",
       "    </tr>\n",
       "    <tr>\n",
       "      <th>70143</th>\n",
       "      <td>936</td>\n",
       "      <td>766</td>\n",
       "      <td>1</td>\n",
       "      <td>886832597</td>\n",
       "    </tr>\n",
       "  </tbody>\n",
       "</table>\n",
       "<p>70144 rows × 4 columns</p>\n",
       "</div>"
      ],
      "text/plain": [
       "      user_id item_id rating  timestamp\n",
       "0         186     302      1  891717742\n",
       "1         186     566      1  879023663\n",
       "2         186     148      1  891719774\n",
       "3         186     263      1  879023571\n",
       "4         186     470      1  879023693\n",
       "...       ...     ...    ...        ...\n",
       "70139     936     312      1  886831853\n",
       "70140     936    1226      1  886833148\n",
       "70141     936     251      1  886832134\n",
       "70142     936     287      1  886832419\n",
       "70143     936     766      1  886832597\n",
       "\n",
       "[70144 rows x 4 columns]"
      ]
     },
     "execution_count": 8,
     "metadata": {},
     "output_type": "execute_result"
    }
   ],
   "source": [
    "df_train"
   ]
  },
  {
   "cell_type": "code",
   "execution_count": 9,
   "metadata": {},
   "outputs": [
    {
     "data": {
      "text/plain": [
       "user_id      category\n",
       "item_id      category\n",
       "rating       category\n",
       "timestamp       int64\n",
       "dtype: object"
      ]
     },
     "execution_count": 9,
     "metadata": {},
     "output_type": "execute_result"
    }
   ],
   "source": [
    "df_train.dtypes"
   ]
  },
  {
   "cell_type": "code",
   "execution_count": 10,
   "metadata": {},
   "outputs": [
    {
     "data": {
      "text/plain": [
       "0         93\n",
       "1         93\n",
       "2         93\n",
       "3         93\n",
       "4         93\n",
       "        ... \n",
       "70139    500\n",
       "70140    500\n",
       "70141    500\n",
       "70142    500\n",
       "70143    500\n",
       "Length: 70144, dtype: int16"
      ]
     },
     "execution_count": 10,
     "metadata": {},
     "output_type": "execute_result"
    }
   ],
   "source": [
    "df_train.user_id.cat.codes"
   ]
  },
  {
   "cell_type": "code",
   "execution_count": 11,
   "metadata": {},
   "outputs": [],
   "source": [
    "new_df = pd.DataFrame()"
   ]
  },
  {
   "cell_type": "code",
   "execution_count": 12,
   "metadata": {},
   "outputs": [],
   "source": [
    "new_df['user_id'] = df_train['user_id']"
   ]
  },
  {
   "cell_type": "code",
   "execution_count": 13,
   "metadata": {},
   "outputs": [
    {
     "data": {
      "text/html": [
       "<div>\n",
       "<style scoped>\n",
       "    .dataframe tbody tr th:only-of-type {\n",
       "        vertical-align: middle;\n",
       "    }\n",
       "\n",
       "    .dataframe tbody tr th {\n",
       "        vertical-align: top;\n",
       "    }\n",
       "\n",
       "    .dataframe thead th {\n",
       "        text-align: right;\n",
       "    }\n",
       "</style>\n",
       "<table border=\"1\" class=\"dataframe\">\n",
       "  <thead>\n",
       "    <tr style=\"text-align: right;\">\n",
       "      <th></th>\n",
       "      <th>user_id</th>\n",
       "    </tr>\n",
       "  </thead>\n",
       "  <tbody>\n",
       "    <tr>\n",
       "      <th>0</th>\n",
       "      <td>186</td>\n",
       "    </tr>\n",
       "    <tr>\n",
       "      <th>1</th>\n",
       "      <td>186</td>\n",
       "    </tr>\n",
       "    <tr>\n",
       "      <th>2</th>\n",
       "      <td>186</td>\n",
       "    </tr>\n",
       "    <tr>\n",
       "      <th>3</th>\n",
       "      <td>186</td>\n",
       "    </tr>\n",
       "    <tr>\n",
       "      <th>4</th>\n",
       "      <td>186</td>\n",
       "    </tr>\n",
       "    <tr>\n",
       "      <th>...</th>\n",
       "      <td>...</td>\n",
       "    </tr>\n",
       "    <tr>\n",
       "      <th>70139</th>\n",
       "      <td>936</td>\n",
       "    </tr>\n",
       "    <tr>\n",
       "      <th>70140</th>\n",
       "      <td>936</td>\n",
       "    </tr>\n",
       "    <tr>\n",
       "      <th>70141</th>\n",
       "      <td>936</td>\n",
       "    </tr>\n",
       "    <tr>\n",
       "      <th>70142</th>\n",
       "      <td>936</td>\n",
       "    </tr>\n",
       "    <tr>\n",
       "      <th>70143</th>\n",
       "      <td>936</td>\n",
       "    </tr>\n",
       "  </tbody>\n",
       "</table>\n",
       "<p>70144 rows × 1 columns</p>\n",
       "</div>"
      ],
      "text/plain": [
       "      user_id\n",
       "0         186\n",
       "1         186\n",
       "2         186\n",
       "3         186\n",
       "4         186\n",
       "...       ...\n",
       "70139     936\n",
       "70140     936\n",
       "70141     936\n",
       "70142     936\n",
       "70143     936\n",
       "\n",
       "[70144 rows x 1 columns]"
      ]
     },
     "execution_count": 13,
     "metadata": {},
     "output_type": "execute_result"
    }
   ],
   "source": [
    "new_df"
   ]
  },
  {
   "cell_type": "code",
   "execution_count": 14,
   "metadata": {},
   "outputs": [],
   "source": [
    "new_df['user_index'] = df_train.user_id.cat.codes"
   ]
  },
  {
   "cell_type": "code",
   "execution_count": 15,
   "metadata": {},
   "outputs": [],
   "source": [
    "new_df = new_df.drop_duplicates().reset_index(drop=True)"
   ]
  },
  {
   "cell_type": "code",
   "execution_count": 16,
   "metadata": {},
   "outputs": [
    {
     "data": {
      "text/html": [
       "<div>\n",
       "<style scoped>\n",
       "    .dataframe tbody tr th:only-of-type {\n",
       "        vertical-align: middle;\n",
       "    }\n",
       "\n",
       "    .dataframe tbody tr th {\n",
       "        vertical-align: top;\n",
       "    }\n",
       "\n",
       "    .dataframe thead th {\n",
       "        text-align: right;\n",
       "    }\n",
       "</style>\n",
       "<table border=\"1\" class=\"dataframe\">\n",
       "  <thead>\n",
       "    <tr style=\"text-align: right;\">\n",
       "      <th></th>\n",
       "      <th>user_id</th>\n",
       "      <th>user_index</th>\n",
       "    </tr>\n",
       "  </thead>\n",
       "  <tbody>\n",
       "    <tr>\n",
       "      <th>0</th>\n",
       "      <td>186</td>\n",
       "      <td>93</td>\n",
       "    </tr>\n",
       "    <tr>\n",
       "      <th>1</th>\n",
       "      <td>298</td>\n",
       "      <td>157</td>\n",
       "    </tr>\n",
       "    <tr>\n",
       "      <th>2</th>\n",
       "      <td>253</td>\n",
       "      <td>128</td>\n",
       "    </tr>\n",
       "    <tr>\n",
       "      <th>3</th>\n",
       "      <td>305</td>\n",
       "      <td>161</td>\n",
       "    </tr>\n",
       "    <tr>\n",
       "      <th>4</th>\n",
       "      <td>6</td>\n",
       "      <td>3</td>\n",
       "    </tr>\n",
       "    <tr>\n",
       "      <th>...</th>\n",
       "      <td>...</td>\n",
       "      <td>...</td>\n",
       "    </tr>\n",
       "    <tr>\n",
       "      <th>500</th>\n",
       "      <td>938</td>\n",
       "      <td>501</td>\n",
       "    </tr>\n",
       "    <tr>\n",
       "      <th>501</th>\n",
       "      <td>940</td>\n",
       "      <td>502</td>\n",
       "    </tr>\n",
       "    <tr>\n",
       "      <th>502</th>\n",
       "      <td>942</td>\n",
       "      <td>503</td>\n",
       "    </tr>\n",
       "    <tr>\n",
       "      <th>503</th>\n",
       "      <td>943</td>\n",
       "      <td>504</td>\n",
       "    </tr>\n",
       "    <tr>\n",
       "      <th>504</th>\n",
       "      <td>936</td>\n",
       "      <td>500</td>\n",
       "    </tr>\n",
       "  </tbody>\n",
       "</table>\n",
       "<p>505 rows × 2 columns</p>\n",
       "</div>"
      ],
      "text/plain": [
       "    user_id  user_index\n",
       "0       186          93\n",
       "1       298         157\n",
       "2       253         128\n",
       "3       305         161\n",
       "4         6           3\n",
       "..      ...         ...\n",
       "500     938         501\n",
       "501     940         502\n",
       "502     942         503\n",
       "503     943         504\n",
       "504     936         500\n",
       "\n",
       "[505 rows x 2 columns]"
      ]
     },
     "execution_count": 16,
     "metadata": {},
     "output_type": "execute_result"
    }
   ],
   "source": [
    "new_df"
   ]
  },
  {
   "cell_type": "code",
   "execution_count": 17,
   "metadata": {},
   "outputs": [
    {
     "data": {
      "text/html": [
       "<div>\n",
       "<style scoped>\n",
       "    .dataframe tbody tr th:only-of-type {\n",
       "        vertical-align: middle;\n",
       "    }\n",
       "\n",
       "    .dataframe tbody tr th {\n",
       "        vertical-align: top;\n",
       "    }\n",
       "\n",
       "    .dataframe thead th {\n",
       "        text-align: right;\n",
       "    }\n",
       "</style>\n",
       "<table border=\"1\" class=\"dataframe\">\n",
       "  <thead>\n",
       "    <tr style=\"text-align: right;\">\n",
       "      <th></th>\n",
       "      <th>user_id</th>\n",
       "      <th>user_index</th>\n",
       "    </tr>\n",
       "  </thead>\n",
       "  <tbody>\n",
       "    <tr>\n",
       "      <th>77</th>\n",
       "      <td>5</td>\n",
       "      <td>2</td>\n",
       "    </tr>\n",
       "    <tr>\n",
       "      <th>84</th>\n",
       "      <td>1</td>\n",
       "      <td>0</td>\n",
       "    </tr>\n",
       "    <tr>\n",
       "      <th>149</th>\n",
       "      <td>2</td>\n",
       "      <td>1</td>\n",
       "    </tr>\n",
       "  </tbody>\n",
       "</table>\n",
       "</div>"
      ],
      "text/plain": [
       "    user_id  user_index\n",
       "77        5           2\n",
       "84        1           0\n",
       "149       2           1"
      ]
     },
     "execution_count": 17,
     "metadata": {},
     "output_type": "execute_result"
    }
   ],
   "source": [
    "new_df[new_df['user_index'] <= 2]"
   ]
  },
  {
   "cell_type": "code",
   "execution_count": null,
   "metadata": {},
   "outputs": [],
   "source": []
  },
  {
   "cell_type": "code",
   "execution_count": 18,
   "metadata": {},
   "outputs": [],
   "source": [
    "class BPR:\n",
    "    \"\"\"\n",
    "    Bayesian Personalized Ranking (BPR) for implicit feedback data\n",
    "\n",
    "    Parameters\n",
    "    ----------\n",
    "    learning_rate : float, default 0.01\n",
    "        learning rate for gradient descent\n",
    "\n",
    "    n_factors : int, default 20\n",
    "        Number/dimension of user and item latent factors\n",
    "\n",
    "    n_iters : int, default 15\n",
    "        Number of iterations to train the algorithm\n",
    "        \n",
    "    batch_size : int, default 1000\n",
    "        batch size for batch gradient descent, the original paper\n",
    "        uses stochastic gradient descent (i.e., batch size of 1),\n",
    "        but this can make the training unstable (very sensitive to\n",
    "        learning rate)\n",
    "\n",
    "    reg : int, default 0.01\n",
    "        Regularization term for the user and item latent factors\n",
    "\n",
    "    seed : int, default 1234\n",
    "        Seed for the randomly initialized user, item latent factors\n",
    "\n",
    "    verbose : bool, default True\n",
    "        Whether to print progress bar while training\n",
    "\n",
    "    Attributes\n",
    "    ----------\n",
    "    user_factors : 2d ndarray, shape [n_users, n_factors]\n",
    "        User latent factors learnt\n",
    "\n",
    "    item_factors : 2d ndarray, shape [n_items, n_factors]\n",
    "        Item latent factors learnt\n",
    "\n",
    "    References\n",
    "    ----------\n",
    "    S. Rendle, C. Freudenthaler, Z. Gantner, L. Schmidt-Thieme \n",
    "    Bayesian Personalized Ranking from Implicit Feedback\n",
    "    - https://arxiv.org/abs/1205.2618\n",
    "    \"\"\"\n",
    "    def __init__(self, learning_rate = 0.01, n_factors = 15, n_iters = 10, \n",
    "                 reg = 0.01, seed = 1234, verbose = True):\n",
    "        self.reg = reg\n",
    "        self.seed = seed\n",
    "        self.verbose = verbose\n",
    "        self.n_iters = n_iters\n",
    "        self.n_factors = n_factors\n",
    "        self.learning_rate = learning_rate\n",
    "        \n",
    "        # to avoid re-computation at predict\n",
    "        self._prediction = None\n",
    "        \n",
    "    def fit(self, ratings):\n",
    "        \"\"\"\n",
    "        Parameters\n",
    "        ----------\n",
    "        ratings : scipy sparse csr_matrix, shape [n_users, n_items]\n",
    "            sparse matrix of user-item interactions\n",
    "        \"\"\"\n",
    "        indptr = ratings.indptr\n",
    "        indices = ratings.indices\n",
    "        n_users, n_items = ratings.shape\n",
    "        \n",
    "        # initialize random weights\n",
    "        rstate = np.random.RandomState(self.seed)\n",
    "#         self.user_factors = rstate.normal(size = (n_users, self.n_factors))\n",
    "#         self.item_factors = rstate.normal(size = (n_items, self.n_factors))\n",
    "        self.user_factors = (rstate.uniform(size = (n_users, self.n_factors)) - 0.5) / self.n_factors\n",
    "        self.item_factors = (rstate.uniform(size = (n_items, self.n_factors)) - 0.5) / self.n_factors\n",
    "        self.item_biases = np.zeros(n_items)\n",
    "        \n",
    "        # progress bar for training iteration if verbose is turned on\n",
    "        loop = range(self.n_iters)\n",
    "        if self.verbose:\n",
    "            loop = trange(self.n_iters, desc = self.__class__.__name__)\n",
    "        \n",
    "        for _ in loop:\n",
    "            print('iterate :', _)\n",
    "            sampled = self._sample(n_users, n_items, indices, indptr)\n",
    "            sampled_users, sampled_pos_items, sampled_neg_items = sampled\n",
    "            self._update_2(sampled_users, sampled_pos_items, sampled_neg_items)\n",
    "\n",
    "        return self\n",
    "    \n",
    "    def _sample(self, n_users, n_items, indices, indptr):\n",
    "        \"\"\"sample batches of random triplets u, i, j\"\"\"\n",
    "#         sampled_pos_items = np.zeros(n_users, dtype = np.int)\n",
    "#         sampled_neg_items = np.zeros(n_users, dtype = np.int)\n",
    "#         sampled_users = np.random.choice(n_users, size = n_users, replace = False)\n",
    "        \n",
    "#         for user in sampled_users:\n",
    "#             pos_items = indices[indptr[user]:indptr[user + 1]]\n",
    "#             pos_item = np.random.choice(pos_items)\n",
    "#             neg_item = np.random.choice(n_items)\n",
    "#             while neg_item in pos_items:\n",
    "#                 neg_item = np.random.choice(n_items)\n",
    "\n",
    "#             sampled_pos_items[user] = pos_item\n",
    "#             sampled_neg_items[user] = neg_item\n",
    "\n",
    "        random_users = np.random.choice(n_users, size = n_users, replace = False)\n",
    "        sampled_users = []\n",
    "        sampled_pos_items = []\n",
    "        sampled_neg_items = []\n",
    "        \n",
    "        for user in random_users:\n",
    "            pos_items = indices[indptr[user]:indptr[user + 1]]\n",
    "            pos_item = np.random.choice(pos_items)\n",
    "            neg_item = np.random.choice(n_items)\n",
    "            \n",
    "            if neg_item in pos_items:\n",
    "                continue\n",
    "            \n",
    "            sampled_users.append(user)\n",
    "            sampled_pos_items.append(pos_item)\n",
    "            sampled_neg_items.append(neg_item)\n",
    "\n",
    "        return sampled_users, sampled_pos_items, sampled_neg_items\n",
    "                \n",
    "    def _update(self, u, i, j):\n",
    "        \"\"\"\n",
    "        update according to the bootstrapped user u, \n",
    "        positive item i and negative item j\n",
    "        \"\"\"\n",
    "        user_u = self.user_factors[u]\n",
    "        item_i = self.item_factors[i]\n",
    "        item_j = self.item_factors[j]\n",
    "\n",
    "        \n",
    "        bias_i = self.item_biases[i]\n",
    "        bias_j = self.item_biases[j]\n",
    "                \n",
    "        # decompose the estimator, compute the difference between\n",
    "        # the score of the positive items and negative items; a\n",
    "        # naive implementation might look like the following:\n",
    "        # r_ui = np.diag(user_u.dot(item_i.T))\n",
    "        # r_uj = np.diag(user_u.dot(item_j.T))\n",
    "        # r_uij = r_ui - r_uj\n",
    "        \n",
    "        # however, we can do better, so\n",
    "        # for batch dot product, instead of doing the dot product\n",
    "        # then only extract the diagonal element (which is the value\n",
    "        # of that current batch), we perform a hadamard product, \n",
    "        # i.e. matrix element-wise product then do a sum along the column will\n",
    "        # be more efficient since it's less operations\n",
    "        # http://people.revoledu.com/kardi/tutorial/LinearAlgebra/HadamardProduct.html\n",
    "        # r_ui = np.sum(user_u * item_i, axis = 1)\n",
    "        #\n",
    "        # then we can achieve another speedup by doing the difference\n",
    "        # on the positive and negative item up front instead of computing\n",
    "        # r_ui and r_uj separately, these two idea will speed up the operations\n",
    "        # from 1:14 down to 0.36\n",
    "\n",
    "        r_uij = np.sum(user_u * (item_i - item_j), axis = 1)\n",
    "\n",
    "        r_uij = r_uij + (bias_i - bias_j)\n",
    "        \n",
    "        sigmoid = 1.0 / (1.0 + np.exp(r_uij))\n",
    "        \n",
    "        print('correct : {}% with {} users'.format(np.sum(sigmoid < 0.5) * 100.0 / sigmoid.shape[0], sigmoid.shape[0]))\n",
    "        print('skipped : {}% with {} users'.format((505 - sigmoid.shape[0]) * 100.0 / 505, 505 - sigmoid.shape[0]))\n",
    "        \n",
    "        # repeat the 1 dimension sigmoid n_factors times so\n",
    "        # the dimension will match when doing the update\n",
    "        sigmoid_tiled = np.tile(sigmoid, (self.n_factors, 1)).T\n",
    "\n",
    "        # update using gradient descent\n",
    "        grad_user_u = sigmoid_tiled * (item_i - item_j) - self.reg * user_u\n",
    "        grad_item_i = sigmoid_tiled * user_u            - self.reg * item_i\n",
    "        grad_item_j = sigmoid_tiled * -user_u           - self.reg * item_j\n",
    "        grad_bias_i = sigmoid - self.reg * bias_i\n",
    "        grad_bias_j = -sigmoid - self.reg * bias_j\n",
    "        \n",
    "        # update users and items factors\n",
    "        self.user_factors[u] += self.learning_rate * grad_user_u\n",
    "        self.item_factors[i] += self.learning_rate * grad_item_i\n",
    "        self.item_factors[j] += self.learning_rate * grad_item_j\n",
    "\n",
    "        # update item biases\n",
    "        self.item_biases[i] += self.learning_rate * grad_bias_i\n",
    "        self.item_biases[j] += self.learning_rate * grad_bias_j\n",
    "            \n",
    "        return self\n",
    "    \n",
    "    def _update_2(self, u, i, j):\n",
    "        assert len(u) == len(i)\n",
    "        assert len(u) == len(j)\n",
    "        \n",
    "        correct = 0\n",
    "        n = len(u)\n",
    "        for idx in range(n):\n",
    "            u_id = u[idx]\n",
    "            i_id = i[idx]\n",
    "            j_id = j[idx]\n",
    "            \n",
    "            user_u = self.user_factors[u_id]\n",
    "            item_i = self.item_factors[i_id]\n",
    "            item_j = self.item_factors[j_id]\n",
    "            \n",
    "            bias_i = self.item_biases[i_id]\n",
    "            bias_j = self.item_biases[j_id]\n",
    "            \n",
    "            score = bias_i - bias_j\n",
    "            score += np.dot(user_u, (item_i - item_j).T)\n",
    "            \n",
    "            z = 1.0 / (1.0 + np.exp(score))\n",
    "            \n",
    "            if z < 0.5:\n",
    "                correct += 1\n",
    "            \n",
    "            grad_user_u = z * (item_i - item_j) - self.reg * user_u\n",
    "            grad_item_i = z * user_u - self.reg * item_i\n",
    "            grad_item_j = -z * user_u - self.reg * item_j\n",
    "            \n",
    "            grad_bias_i = z - self.reg * bias_i\n",
    "            grad_bias_j = -z - self.reg * bias_j\n",
    "\n",
    "            \n",
    "            self.user_factors[u_id] += self.learning_rate * grad_user_u\n",
    "            self.item_factors[i_id] += self.learning_rate * grad_item_i\n",
    "            self.item_factors[j_id] += self.learning_rate * grad_item_j\n",
    "            \n",
    "            self.item_biases[i_id] += self.learning_rate * grad_bias_i\n",
    "            self.item_biases[j_id] += self.learning_rate * grad_bias_j\n",
    "        \n",
    "        print('correct :', correct * 100.0 / len(u))\n",
    "            \n",
    "        return self\n"
   ]
  },
  {
   "cell_type": "code",
   "execution_count": 19,
   "metadata": {},
   "outputs": [],
   "source": [
    "class MYBPR:\n",
    "    def __init__(self, learning_rate = 0.01, n_factors = 15, n_iters = 10, \n",
    "                 reg = 0.01, seed = 1234, verbose = True):\n",
    "        self.reg = reg\n",
    "        self.seed = seed\n",
    "        self.verbose = verbose\n",
    "        self.n_iters = n_iters\n",
    "        self.n_factors = n_factors\n",
    "        self.learning_rate = learning_rate\n",
    "        \n",
    "        # to avoid re-computation at predict\n",
    "        self._prediction = None\n",
    "    \n",
    "    def _prepare_data(self, ratings):\n",
    "        user_counts = np.ediff1d(ratings.indptr)\n",
    "        user_ids = np.repeat(np.arange(ratings.shape[0]), user_counts).astype(ratings.indices.dtype)\n",
    "        \n",
    "        return user_counts, user_ids\n",
    "    \n",
    "        \n",
    "    def fit(self, ratings):\n",
    "        indptr = ratings.indptr\n",
    "        indices = ratings.indices\n",
    "        n_users, n_items = ratings.shape\n",
    "        \n",
    "        user_counts, user_ids = self._prepare_data(ratings)\n",
    "        neg_item_ids = np.arange(n_items, dtype=np.int32)\n",
    "        \n",
    "        # initialize random weights\n",
    "        rstate = np.random.RandomState(self.seed)\n",
    "        self.user_factors = (rstate.uniform(size = (n_users, self.n_factors)) - 0.5) / self.n_factors\n",
    "        self.item_factors = (rstate.uniform(size = (n_items, self.n_factors)) - 0.5) / self.n_factors\n",
    "        self.item_biases = np.zeros(n_items)\n",
    "        \n",
    "        # progress bar for training iteration if verbose is turned on\n",
    "        loop = range(self.n_iters)\n",
    "        if self.verbose:\n",
    "            loop = trange(self.n_iters, desc = self.__class__.__name__)\n",
    "        \n",
    "        for _ in loop:\n",
    "            print('iterate :', _)\n",
    "            correct, skipped = self._fit_sgd(user_ids, indices, neg_item_ids, indptr)\n",
    "            print(' correct : {:.2f}%'.format((100.0 * correct / (len(user_ids) - skipped))))\n",
    "            print(' skipped : {:.2f}%'.format((100.0 * skipped / len(user_ids))))\n",
    "\n",
    "        return self\n",
    "\n",
    "    \n",
    "    def _fit_sgd(self, user_ids, item_ids, neg_item_ids, indptr):\n",
    "        correct = 0\n",
    "        skipped = 0\n",
    "        num_samples = len(user_ids)\n",
    "        \n",
    "        for _ in range(num_samples):\n",
    "            i_index = np.random.choice(num_samples)\n",
    "            i_id = item_ids[i_index]\n",
    "            \n",
    "            j_id = np.random.choice(neg_item_ids)\n",
    "            \n",
    "            u_id = user_ids[i_index]\n",
    "            \n",
    "            pos_items = item_ids[indptr[u_id]:indptr[u_id + 1]]\n",
    "            if j_id in pos_items:\n",
    "                skipped += 1\n",
    "                continue\n",
    "            \n",
    "            user_u = self.user_factors[u_id]\n",
    "            item_i = self.item_factors[i_id]\n",
    "            item_j = self.item_factors[j_id]\n",
    "            \n",
    "            bias_i = self.item_biases[i_id]\n",
    "            bias_j = self.item_biases[j_id]\n",
    "            \n",
    "            score = bias_i - bias_j\n",
    "            score += np.dot(user_u, (item_i - item_j).T)\n",
    "            \n",
    "            z = 1.0 / (1.0 + np.exp(score))\n",
    "            \n",
    "            if z < 0.5:\n",
    "                correct += 1\n",
    "            \n",
    "            grad_user_u = z * (item_i - item_j) - self.reg * user_u\n",
    "            grad_item_i = z * user_u - self.reg * item_i\n",
    "            grad_item_j = -z * user_u - self.reg * item_j\n",
    "            \n",
    "            grad_bias_i = z - self.reg * bias_i\n",
    "            grad_bias_j = -z - self.reg * bias_j\n",
    "\n",
    "            \n",
    "            self.user_factors[u_id] += self.learning_rate * grad_user_u\n",
    "            self.item_factors[i_id] += self.learning_rate * grad_item_i\n",
    "            self.item_factors[j_id] += self.learning_rate * grad_item_j\n",
    "            \n",
    "            self.item_biases[i_id] += self.learning_rate * grad_bias_i\n",
    "            self.item_biases[j_id] += self.learning_rate * grad_bias_j \n",
    "        \n",
    "        return correct, skipped"
   ]
  },
  {
   "cell_type": "code",
   "execution_count": null,
   "metadata": {},
   "outputs": [],
   "source": []
  },
  {
   "cell_type": "code",
   "execution_count": 20,
   "metadata": {},
   "outputs": [
    {
     "name": "stderr",
     "output_type": "stream",
     "text": [
      "BPR:  40%|████      | 4/10 [00:00<00:00, 37.33it/s]"
     ]
    },
    {
     "name": "stdout",
     "output_type": "stream",
     "text": [
      "iterate : 0\n",
      "correct : 62.723214285714285\n",
      "iterate : 1\n",
      "correct : 71.93763919821826\n",
      "iterate : 2\n",
      "correct : 74.78260869565217\n",
      "iterate : 3\n",
      "correct : 74.89451476793249\n",
      "iterate : 4\n",
      "correct : 79.9554565701559\n",
      "iterate : 5\n",
      "correct : 80.56155507559396\n",
      "iterate : 6\n",
      "correct : 79.12087912087912\n",
      "iterate : 7\n",
      "correct : 77.15517241379311\n",
      "iterate : 8\n",
      "correct :"
     ]
    },
    {
     "name": "stderr",
     "output_type": "stream",
     "text": [
      "BPR: 100%|██████████| 10/10 [00:00<00:00, 40.43it/s]"
     ]
    },
    {
     "name": "stdout",
     "output_type": "stream",
     "text": [
      " 82.31441048034935\n",
      "iterate : 9\n",
      "correct : 75.32467532467533\n"
     ]
    },
    {
     "name": "stderr",
     "output_type": "stream",
     "text": [
      "\n"
     ]
    },
    {
     "data": {
      "text/plain": [
       "<__main__.BPR at 0x7fb99bafbb38>"
      ]
     },
     "execution_count": 20,
     "metadata": {},
     "output_type": "execute_result"
    }
   ],
   "source": [
    "# parameters were randomly chosen\n",
    "bpr_params = {\n",
    "    'reg': 0.001,\n",
    "    'learning_rate': 0.01,\n",
    "    'n_iters': 10,\n",
    "    'n_factors': 30,\n",
    "    'seed': 42\n",
    "}\n",
    "\n",
    "bpr = BPR(**bpr_params)\n",
    "bpr.fit(X_train)"
   ]
  },
  {
   "cell_type": "code",
   "execution_count": 21,
   "metadata": {},
   "outputs": [
    {
     "name": "stderr",
     "output_type": "stream",
     "text": [
      "\r",
      "MYBPR:   0%|          | 0/50 [00:00<?, ?it/s]"
     ]
    },
    {
     "name": "stdout",
     "output_type": "stream",
     "text": [
      "iterate : 0\n"
     ]
    },
    {
     "name": "stderr",
     "output_type": "stream",
     "text": [
      "\r",
      "MYBPR:   2%|▏         | 1/50 [00:03<02:38,  3.24s/it]"
     ]
    },
    {
     "name": "stdout",
     "output_type": "stream",
     "text": [
      " correct : 83.53%\n",
      " skipped : 11.78%\n",
      "iterate : 1\n"
     ]
    },
    {
     "name": "stderr",
     "output_type": "stream",
     "text": [
      "\r",
      "MYBPR:   4%|▍         | 2/50 [00:06<02:34,  3.22s/it]"
     ]
    },
    {
     "name": "stdout",
     "output_type": "stream",
     "text": [
      " correct : 85.42%\n",
      " skipped : 11.91%\n",
      "iterate : 2\n"
     ]
    },
    {
     "name": "stderr",
     "output_type": "stream",
     "text": [
      "\r",
      "MYBPR:   6%|▌         | 3/50 [00:09<02:33,  3.27s/it]"
     ]
    },
    {
     "name": "stdout",
     "output_type": "stream",
     "text": [
      " correct : 85.67%\n",
      " skipped : 11.70%\n",
      "iterate : 3\n"
     ]
    },
    {
     "name": "stderr",
     "output_type": "stream",
     "text": [
      "\r",
      "MYBPR:   8%|▊         | 4/50 [00:12<02:28,  3.24s/it]"
     ]
    },
    {
     "name": "stdout",
     "output_type": "stream",
     "text": [
      " correct : 85.72%\n",
      " skipped : 11.96%\n",
      "iterate : 4\n"
     ]
    },
    {
     "name": "stderr",
     "output_type": "stream",
     "text": [
      "\r",
      "MYBPR:  10%|█         | 5/50 [00:16<02:26,  3.26s/it]"
     ]
    },
    {
     "name": "stdout",
     "output_type": "stream",
     "text": [
      " correct : 85.80%\n",
      " skipped : 11.90%\n",
      "iterate : 5\n"
     ]
    },
    {
     "name": "stderr",
     "output_type": "stream",
     "text": [
      "\r",
      "MYBPR:  12%|█▏        | 6/50 [00:19<02:22,  3.25s/it]"
     ]
    },
    {
     "name": "stdout",
     "output_type": "stream",
     "text": [
      " correct : 85.76%\n",
      " skipped : 11.91%\n",
      "iterate : 6\n"
     ]
    },
    {
     "name": "stderr",
     "output_type": "stream",
     "text": [
      "\r",
      "MYBPR:  14%|█▍        | 7/50 [00:23<02:22,  3.33s/it]"
     ]
    },
    {
     "name": "stdout",
     "output_type": "stream",
     "text": [
      " correct : 85.89%\n",
      " skipped : 11.95%\n",
      "iterate : 7\n"
     ]
    },
    {
     "name": "stderr",
     "output_type": "stream",
     "text": [
      "\r",
      "MYBPR:  16%|█▌        | 8/50 [00:26<02:22,  3.39s/it]"
     ]
    },
    {
     "name": "stdout",
     "output_type": "stream",
     "text": [
      " correct : 85.70%\n",
      " skipped : 12.07%\n",
      "iterate : 8\n"
     ]
    },
    {
     "name": "stderr",
     "output_type": "stream",
     "text": [
      "\r",
      "MYBPR:  18%|█▊        | 9/50 [00:29<02:16,  3.34s/it]"
     ]
    },
    {
     "name": "stdout",
     "output_type": "stream",
     "text": [
      " correct : 85.81%\n",
      " skipped : 11.89%\n",
      "iterate : 9\n"
     ]
    },
    {
     "name": "stderr",
     "output_type": "stream",
     "text": [
      "\r",
      "MYBPR:  20%|██        | 10/50 [00:32<02:12,  3.30s/it]"
     ]
    },
    {
     "name": "stdout",
     "output_type": "stream",
     "text": [
      " correct : 85.89%\n",
      " skipped : 12.02%\n",
      "iterate : 10\n"
     ]
    },
    {
     "name": "stderr",
     "output_type": "stream",
     "text": [
      "\r",
      "MYBPR:  22%|██▏       | 11/50 [00:36<02:09,  3.32s/it]"
     ]
    },
    {
     "name": "stdout",
     "output_type": "stream",
     "text": [
      " correct : 85.71%\n",
      " skipped : 12.14%\n",
      "iterate : 11\n"
     ]
    },
    {
     "name": "stderr",
     "output_type": "stream",
     "text": [
      "\r",
      "MYBPR:  24%|██▍       | 12/50 [00:39<02:04,  3.27s/it]"
     ]
    },
    {
     "name": "stdout",
     "output_type": "stream",
     "text": [
      " correct : 85.88%\n",
      " skipped : 11.91%\n",
      "iterate : 12\n"
     ]
    },
    {
     "name": "stderr",
     "output_type": "stream",
     "text": [
      "\r",
      "MYBPR:  26%|██▌       | 13/50 [00:42<02:01,  3.27s/it]"
     ]
    },
    {
     "name": "stdout",
     "output_type": "stream",
     "text": [
      " correct : 85.85%\n",
      " skipped : 11.92%\n",
      "iterate : 13\n"
     ]
    },
    {
     "name": "stderr",
     "output_type": "stream",
     "text": [
      "\r",
      "MYBPR:  28%|██▊       | 14/50 [00:45<01:56,  3.25s/it]"
     ]
    },
    {
     "name": "stdout",
     "output_type": "stream",
     "text": [
      " correct : 85.94%\n",
      " skipped : 11.79%\n",
      "iterate : 14\n"
     ]
    },
    {
     "name": "stderr",
     "output_type": "stream",
     "text": [
      "\r",
      "MYBPR:  30%|███       | 15/50 [00:49<01:55,  3.29s/it]"
     ]
    },
    {
     "name": "stdout",
     "output_type": "stream",
     "text": [
      " correct : 85.88%\n",
      " skipped : 11.94%\n",
      "iterate : 15\n"
     ]
    },
    {
     "name": "stderr",
     "output_type": "stream",
     "text": [
      "\r",
      "MYBPR:  32%|███▏      | 16/50 [00:52<01:50,  3.25s/it]"
     ]
    },
    {
     "name": "stdout",
     "output_type": "stream",
     "text": [
      " correct : 86.02%\n",
      " skipped : 11.99%\n",
      "iterate : 16\n"
     ]
    },
    {
     "name": "stderr",
     "output_type": "stream",
     "text": [
      "\r",
      "MYBPR:  34%|███▍      | 17/50 [00:55<01:45,  3.21s/it]"
     ]
    },
    {
     "name": "stdout",
     "output_type": "stream",
     "text": [
      " correct : 85.87%\n",
      " skipped : 11.84%\n",
      "iterate : 17\n"
     ]
    },
    {
     "name": "stderr",
     "output_type": "stream",
     "text": [
      "\r",
      "MYBPR:  36%|███▌      | 18/50 [00:58<01:42,  3.21s/it]"
     ]
    },
    {
     "name": "stdout",
     "output_type": "stream",
     "text": [
      " correct : 85.86%\n",
      " skipped : 11.84%\n",
      "iterate : 18\n"
     ]
    },
    {
     "name": "stderr",
     "output_type": "stream",
     "text": [
      "\r",
      "MYBPR:  38%|███▊      | 19/50 [01:02<01:41,  3.26s/it]"
     ]
    },
    {
     "name": "stdout",
     "output_type": "stream",
     "text": [
      " correct : 86.00%\n",
      " skipped : 12.08%\n",
      "iterate : 19\n"
     ]
    },
    {
     "name": "stderr",
     "output_type": "stream",
     "text": [
      "\r",
      "MYBPR:  40%|████      | 20/50 [01:05<01:38,  3.30s/it]"
     ]
    },
    {
     "name": "stdout",
     "output_type": "stream",
     "text": [
      " correct : 85.83%\n",
      " skipped : 11.88%\n",
      "iterate : 20\n"
     ]
    },
    {
     "name": "stderr",
     "output_type": "stream",
     "text": [
      "\r",
      "MYBPR:  42%|████▏     | 21/50 [01:08<01:34,  3.26s/it]"
     ]
    },
    {
     "name": "stdout",
     "output_type": "stream",
     "text": [
      " correct : 85.68%\n",
      " skipped : 11.93%\n",
      "iterate : 21\n"
     ]
    },
    {
     "name": "stderr",
     "output_type": "stream",
     "text": [
      "\r",
      "MYBPR:  44%|████▍     | 22/50 [01:12<01:31,  3.26s/it]"
     ]
    },
    {
     "name": "stdout",
     "output_type": "stream",
     "text": [
      " correct : 85.88%\n",
      " skipped : 11.92%\n",
      "iterate : 22\n"
     ]
    },
    {
     "name": "stderr",
     "output_type": "stream",
     "text": [
      "\r",
      "MYBPR:  46%|████▌     | 23/50 [01:15<01:30,  3.37s/it]"
     ]
    },
    {
     "name": "stdout",
     "output_type": "stream",
     "text": [
      " correct : 85.83%\n",
      " skipped : 12.06%\n",
      "iterate : 23\n"
     ]
    },
    {
     "name": "stderr",
     "output_type": "stream",
     "text": [
      "\r",
      "MYBPR:  48%|████▊     | 24/50 [01:19<01:27,  3.38s/it]"
     ]
    },
    {
     "name": "stdout",
     "output_type": "stream",
     "text": [
      " correct : 85.90%\n",
      " skipped : 11.93%\n",
      "iterate : 24\n"
     ]
    },
    {
     "name": "stderr",
     "output_type": "stream",
     "text": [
      "\r",
      "MYBPR:  50%|█████     | 25/50 [01:22<01:23,  3.34s/it]"
     ]
    },
    {
     "name": "stdout",
     "output_type": "stream",
     "text": [
      " correct : 85.93%\n",
      " skipped : 12.02%\n",
      "iterate : 25\n"
     ]
    },
    {
     "name": "stderr",
     "output_type": "stream",
     "text": [
      "\r",
      "MYBPR:  52%|█████▏    | 26/50 [01:26<01:22,  3.44s/it]"
     ]
    },
    {
     "name": "stdout",
     "output_type": "stream",
     "text": [
      " correct : 85.96%\n",
      " skipped : 11.92%\n",
      "iterate : 26\n"
     ]
    },
    {
     "name": "stderr",
     "output_type": "stream",
     "text": [
      "\r",
      "MYBPR:  54%|█████▍    | 27/50 [01:29<01:20,  3.51s/it]"
     ]
    },
    {
     "name": "stdout",
     "output_type": "stream",
     "text": [
      " correct : 86.15%\n",
      " skipped : 11.99%\n",
      "iterate : 27\n"
     ]
    },
    {
     "name": "stderr",
     "output_type": "stream",
     "text": [
      "\r",
      "MYBPR:  56%|█████▌    | 28/50 [01:33<01:16,  3.47s/it]"
     ]
    },
    {
     "name": "stdout",
     "output_type": "stream",
     "text": [
      " correct : 86.03%\n",
      " skipped : 12.01%\n",
      "iterate : 28\n"
     ]
    },
    {
     "name": "stderr",
     "output_type": "stream",
     "text": [
      "\r",
      "MYBPR:  58%|█████▊    | 29/50 [01:36<01:13,  3.49s/it]"
     ]
    },
    {
     "name": "stdout",
     "output_type": "stream",
     "text": [
      " correct : 86.23%\n",
      " skipped : 12.04%\n",
      "iterate : 29\n"
     ]
    },
    {
     "name": "stderr",
     "output_type": "stream",
     "text": [
      "\r",
      "MYBPR:  60%|██████    | 30/50 [01:40<01:10,  3.53s/it]"
     ]
    },
    {
     "name": "stdout",
     "output_type": "stream",
     "text": [
      " correct : 86.18%\n",
      " skipped : 11.92%\n",
      "iterate : 30\n"
     ]
    },
    {
     "name": "stderr",
     "output_type": "stream",
     "text": [
      "\r",
      "MYBPR:  62%|██████▏   | 31/50 [01:43<01:05,  3.44s/it]"
     ]
    },
    {
     "name": "stdout",
     "output_type": "stream",
     "text": [
      " correct : 86.58%\n",
      " skipped : 11.86%\n",
      "iterate : 31\n"
     ]
    },
    {
     "name": "stderr",
     "output_type": "stream",
     "text": [
      "\r",
      "MYBPR:  64%|██████▍   | 32/50 [01:46<01:00,  3.35s/it]"
     ]
    },
    {
     "name": "stdout",
     "output_type": "stream",
     "text": [
      " correct : 86.28%\n",
      " skipped : 11.74%\n",
      "iterate : 32\n"
     ]
    },
    {
     "name": "stderr",
     "output_type": "stream",
     "text": [
      "\r",
      "MYBPR:  66%|██████▌   | 33/50 [01:49<00:55,  3.27s/it]"
     ]
    },
    {
     "name": "stdout",
     "output_type": "stream",
     "text": [
      " correct : 86.13%\n",
      " skipped : 11.96%\n",
      "iterate : 33\n"
     ]
    },
    {
     "name": "stderr",
     "output_type": "stream",
     "text": [
      "\r",
      "MYBPR:  68%|██████▊   | 34/50 [01:53<00:53,  3.33s/it]"
     ]
    },
    {
     "name": "stdout",
     "output_type": "stream",
     "text": [
      " correct : 86.58%\n",
      " skipped : 12.03%\n",
      "iterate : 34\n"
     ]
    },
    {
     "name": "stderr",
     "output_type": "stream",
     "text": [
      "\r",
      "MYBPR:  70%|███████   | 35/50 [01:56<00:49,  3.29s/it]"
     ]
    },
    {
     "name": "stdout",
     "output_type": "stream",
     "text": [
      " correct : 86.74%\n",
      " skipped : 12.14%\n",
      "iterate : 35\n"
     ]
    },
    {
     "name": "stderr",
     "output_type": "stream",
     "text": [
      "\r",
      "MYBPR:  72%|███████▏  | 36/50 [01:59<00:45,  3.26s/it]"
     ]
    },
    {
     "name": "stdout",
     "output_type": "stream",
     "text": [
      " correct : 86.77%\n",
      " skipped : 12.10%\n",
      "iterate : 36\n"
     ]
    },
    {
     "name": "stderr",
     "output_type": "stream",
     "text": [
      "\r",
      "MYBPR:  74%|███████▍  | 37/50 [02:02<00:42,  3.28s/it]"
     ]
    },
    {
     "name": "stdout",
     "output_type": "stream",
     "text": [
      " correct : 86.83%\n",
      " skipped : 11.88%\n",
      "iterate : 37\n"
     ]
    },
    {
     "name": "stderr",
     "output_type": "stream",
     "text": [
      "\r",
      "MYBPR:  76%|███████▌  | 38/50 [02:06<00:40,  3.36s/it]"
     ]
    },
    {
     "name": "stdout",
     "output_type": "stream",
     "text": [
      " correct : 87.34%\n",
      " skipped : 12.05%\n",
      "iterate : 38\n"
     ]
    },
    {
     "name": "stderr",
     "output_type": "stream",
     "text": [
      "\r",
      "MYBPR:  78%|███████▊  | 39/50 [02:09<00:36,  3.31s/it]"
     ]
    },
    {
     "name": "stdout",
     "output_type": "stream",
     "text": [
      " correct : 87.52%\n",
      " skipped : 11.81%\n",
      "iterate : 39\n"
     ]
    },
    {
     "name": "stderr",
     "output_type": "stream",
     "text": [
      "\r",
      "MYBPR:  80%|████████  | 40/50 [02:12<00:32,  3.29s/it]"
     ]
    },
    {
     "name": "stdout",
     "output_type": "stream",
     "text": [
      " correct : 87.90%\n",
      " skipped : 12.00%\n",
      "iterate : 40\n"
     ]
    },
    {
     "name": "stderr",
     "output_type": "stream",
     "text": [
      "\r",
      "MYBPR:  82%|████████▏ | 41/50 [02:16<00:29,  3.26s/it]"
     ]
    },
    {
     "name": "stdout",
     "output_type": "stream",
     "text": [
      " correct : 88.17%\n",
      " skipped : 11.76%\n",
      "iterate : 41\n"
     ]
    },
    {
     "name": "stderr",
     "output_type": "stream",
     "text": [
      "\r",
      "MYBPR:  84%|████████▍ | 42/50 [02:19<00:26,  3.37s/it]"
     ]
    },
    {
     "name": "stdout",
     "output_type": "stream",
     "text": [
      " correct : 88.27%\n",
      " skipped : 11.87%\n",
      "iterate : 42\n"
     ]
    },
    {
     "name": "stderr",
     "output_type": "stream",
     "text": [
      "\r",
      "MYBPR:  86%|████████▌ | 43/50 [02:23<00:23,  3.42s/it]"
     ]
    },
    {
     "name": "stdout",
     "output_type": "stream",
     "text": [
      " correct : 88.70%\n",
      " skipped : 11.79%\n",
      "iterate : 43\n"
     ]
    },
    {
     "name": "stderr",
     "output_type": "stream",
     "text": [
      "\r",
      "MYBPR:  88%|████████▊ | 44/50 [02:26<00:20,  3.47s/it]"
     ]
    },
    {
     "name": "stdout",
     "output_type": "stream",
     "text": [
      " correct : 89.17%\n",
      " skipped : 11.75%\n",
      "iterate : 44\n"
     ]
    },
    {
     "name": "stderr",
     "output_type": "stream",
     "text": [
      "\r",
      "MYBPR:  90%|█████████ | 45/50 [02:31<00:19,  3.87s/it]"
     ]
    },
    {
     "name": "stdout",
     "output_type": "stream",
     "text": [
      " correct : 89.05%\n",
      " skipped : 11.88%\n",
      "iterate : 45\n"
     ]
    },
    {
     "name": "stderr",
     "output_type": "stream",
     "text": [
      "\r",
      "MYBPR:  92%|█████████▏| 46/50 [02:35<00:15,  3.93s/it]"
     ]
    },
    {
     "name": "stdout",
     "output_type": "stream",
     "text": [
      " correct : 89.23%\n",
      " skipped : 12.08%\n",
      "iterate : 46\n"
     ]
    },
    {
     "name": "stderr",
     "output_type": "stream",
     "text": [
      "\r",
      "MYBPR:  94%|█████████▍| 47/50 [02:39<00:11,  3.78s/it]"
     ]
    },
    {
     "name": "stdout",
     "output_type": "stream",
     "text": [
      " correct : 89.80%\n",
      " skipped : 11.89%\n",
      "iterate : 47\n"
     ]
    },
    {
     "name": "stderr",
     "output_type": "stream",
     "text": [
      "\r",
      "MYBPR:  96%|█████████▌| 48/50 [02:42<00:07,  3.68s/it]"
     ]
    },
    {
     "name": "stdout",
     "output_type": "stream",
     "text": [
      " correct : 89.81%\n",
      " skipped : 11.91%\n",
      "iterate : 48\n"
     ]
    },
    {
     "name": "stderr",
     "output_type": "stream",
     "text": [
      "\r",
      "MYBPR:  98%|█████████▊| 49/50 [02:46<00:03,  3.63s/it]"
     ]
    },
    {
     "name": "stdout",
     "output_type": "stream",
     "text": [
      " correct : 89.83%\n",
      " skipped : 11.95%\n",
      "iterate : 49\n"
     ]
    },
    {
     "name": "stderr",
     "output_type": "stream",
     "text": [
      "MYBPR: 100%|██████████| 50/50 [02:49<00:00,  3.38s/it]"
     ]
    },
    {
     "name": "stdout",
     "output_type": "stream",
     "text": [
      " correct : 90.00%\n",
      " skipped : 12.06%\n"
     ]
    },
    {
     "name": "stderr",
     "output_type": "stream",
     "text": [
      "\n"
     ]
    },
    {
     "data": {
      "text/plain": [
       "<__main__.MYBPR at 0x7fb99b86b6a0>"
      ]
     },
     "execution_count": 21,
     "metadata": {},
     "output_type": "execute_result"
    }
   ],
   "source": [
    "# parameters were randomly chosen\n",
    "bpr_params = {\n",
    "    'reg': 0.001,\n",
    "    'learning_rate': 0.01,\n",
    "    'n_iters': 50,\n",
    "    'n_factors': 30,\n",
    "    'seed': 42\n",
    "}\n",
    "\n",
    "bpr = MYBPR(**bpr_params)\n",
    "bpr.fit(X_train)"
   ]
  },
  {
   "cell_type": "markdown",
   "metadata": {},
   "source": [
    "# Compare to cornac"
   ]
  },
  {
   "cell_type": "code",
   "execution_count": 22,
   "metadata": {},
   "outputs": [],
   "source": [
    "import cornac"
   ]
  },
  {
   "cell_type": "code",
   "execution_count": 23,
   "metadata": {},
   "outputs": [
    {
     "data": {
      "text/html": [
       "<div>\n",
       "<style scoped>\n",
       "    .dataframe tbody tr th:only-of-type {\n",
       "        vertical-align: middle;\n",
       "    }\n",
       "\n",
       "    .dataframe tbody tr th {\n",
       "        vertical-align: top;\n",
       "    }\n",
       "\n",
       "    .dataframe thead th {\n",
       "        text-align: right;\n",
       "    }\n",
       "</style>\n",
       "<table border=\"1\" class=\"dataframe\">\n",
       "  <thead>\n",
       "    <tr style=\"text-align: right;\">\n",
       "      <th></th>\n",
       "      <th>user_id</th>\n",
       "      <th>item_id</th>\n",
       "      <th>rating</th>\n",
       "      <th>timestamp</th>\n",
       "    </tr>\n",
       "  </thead>\n",
       "  <tbody>\n",
       "    <tr>\n",
       "      <th>0</th>\n",
       "      <td>186</td>\n",
       "      <td>302</td>\n",
       "      <td>1</td>\n",
       "      <td>891717742</td>\n",
       "    </tr>\n",
       "    <tr>\n",
       "      <th>1</th>\n",
       "      <td>186</td>\n",
       "      <td>566</td>\n",
       "      <td>1</td>\n",
       "      <td>879023663</td>\n",
       "    </tr>\n",
       "    <tr>\n",
       "      <th>2</th>\n",
       "      <td>186</td>\n",
       "      <td>148</td>\n",
       "      <td>1</td>\n",
       "      <td>891719774</td>\n",
       "    </tr>\n",
       "    <tr>\n",
       "      <th>3</th>\n",
       "      <td>186</td>\n",
       "      <td>263</td>\n",
       "      <td>1</td>\n",
       "      <td>879023571</td>\n",
       "    </tr>\n",
       "    <tr>\n",
       "      <th>4</th>\n",
       "      <td>186</td>\n",
       "      <td>470</td>\n",
       "      <td>1</td>\n",
       "      <td>879023693</td>\n",
       "    </tr>\n",
       "    <tr>\n",
       "      <th>...</th>\n",
       "      <td>...</td>\n",
       "      <td>...</td>\n",
       "      <td>...</td>\n",
       "      <td>...</td>\n",
       "    </tr>\n",
       "    <tr>\n",
       "      <th>70139</th>\n",
       "      <td>936</td>\n",
       "      <td>312</td>\n",
       "      <td>1</td>\n",
       "      <td>886831853</td>\n",
       "    </tr>\n",
       "    <tr>\n",
       "      <th>70140</th>\n",
       "      <td>936</td>\n",
       "      <td>1226</td>\n",
       "      <td>1</td>\n",
       "      <td>886833148</td>\n",
       "    </tr>\n",
       "    <tr>\n",
       "      <th>70141</th>\n",
       "      <td>936</td>\n",
       "      <td>251</td>\n",
       "      <td>1</td>\n",
       "      <td>886832134</td>\n",
       "    </tr>\n",
       "    <tr>\n",
       "      <th>70142</th>\n",
       "      <td>936</td>\n",
       "      <td>287</td>\n",
       "      <td>1</td>\n",
       "      <td>886832419</td>\n",
       "    </tr>\n",
       "    <tr>\n",
       "      <th>70143</th>\n",
       "      <td>936</td>\n",
       "      <td>766</td>\n",
       "      <td>1</td>\n",
       "      <td>886832597</td>\n",
       "    </tr>\n",
       "  </tbody>\n",
       "</table>\n",
       "<p>70144 rows × 4 columns</p>\n",
       "</div>"
      ],
      "text/plain": [
       "      user_id item_id rating  timestamp\n",
       "0         186     302      1  891717742\n",
       "1         186     566      1  879023663\n",
       "2         186     148      1  891719774\n",
       "3         186     263      1  879023571\n",
       "4         186     470      1  879023693\n",
       "...       ...     ...    ...        ...\n",
       "70139     936     312      1  886831853\n",
       "70140     936    1226      1  886833148\n",
       "70141     936     251      1  886832134\n",
       "70142     936     287      1  886832419\n",
       "70143     936     766      1  886832597\n",
       "\n",
       "[70144 rows x 4 columns]"
      ]
     },
     "execution_count": 23,
     "metadata": {},
     "output_type": "execute_result"
    }
   ],
   "source": [
    "df_train"
   ]
  },
  {
   "cell_type": "code",
   "execution_count": 24,
   "metadata": {},
   "outputs": [],
   "source": [
    "train_set = cornac.data.Dataset.from_uir(df_train[['user_id', 'item_id', 'rating']].itertuples(index=False), seed=42)"
   ]
  },
  {
   "cell_type": "code",
   "execution_count": 25,
   "metadata": {},
   "outputs": [
    {
     "data": {
      "text/plain": [
       "<cornac.data.dataset.Dataset at 0x7fb99b86b898>"
      ]
     },
     "execution_count": 25,
     "metadata": {},
     "output_type": "execute_result"
    }
   ],
   "source": [
    "train_set"
   ]
  },
  {
   "cell_type": "code",
   "execution_count": 26,
   "metadata": {},
   "outputs": [],
   "source": [
    "cornac_bpr = cornac.models.BPR(k=30,\n",
    "                        max_iter=50,\n",
    "                        learning_rate=0.01,\n",
    "                        lambda_reg=0.001,\n",
    "                        verbose=True,\n",
    "                        seed=42)"
   ]
  },
  {
   "cell_type": "code",
   "execution_count": 27,
   "metadata": {},
   "outputs": [
    {
     "data": {
      "application/vnd.jupyter.widget-view+json": {
       "model_id": "659623ccb26c4cbcb388f4c017b17101",
       "version_major": 2,
       "version_minor": 0
      },
      "text/plain": [
       "HBox(children=(HTML(value=''), FloatProgress(value=0.0, max=50.0), HTML(value='')))"
      ]
     },
     "metadata": {},
     "output_type": "display_data"
    },
    {
     "name": "stdout",
     "output_type": "stream",
     "text": [
      "\n",
      "Optimization finished!\n"
     ]
    },
    {
     "data": {
      "text/plain": [
       "<cornac.models.bpr.recom_bpr.BPR at 0x7fb99c072c50>"
      ]
     },
     "execution_count": 27,
     "metadata": {},
     "output_type": "execute_result"
    }
   ],
   "source": [
    "cornac_bpr.fit(train_set)"
   ]
  },
  {
   "cell_type": "code",
   "execution_count": null,
   "metadata": {},
   "outputs": [],
   "source": []
  }
 ],
 "metadata": {
  "kernelspec": {
   "display_name": "Python 3",
   "language": "python",
   "name": "python3"
  },
  "language_info": {
   "codemirror_mode": {
    "name": "ipython",
    "version": 3
   },
   "file_extension": ".py",
   "mimetype": "text/x-python",
   "name": "python",
   "nbconvert_exporter": "python",
   "pygments_lexer": "ipython3",
   "version": "3.6.9"
  }
 },
 "nbformat": 4,
 "nbformat_minor": 4
}
